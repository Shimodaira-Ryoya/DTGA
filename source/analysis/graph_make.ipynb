{
 "cells": [
  {
   "cell_type": "code",
   "execution_count": null,
   "id": "8566dd38",
   "metadata": {},
   "outputs": [],
   "source": [
    "import os\n",
    "import pandas as pd\n",
    "import matplotlib.pyplot as plt\n",
    "import seaborn as sns\n",
    "\n",
    "fpas=\"../../output/method2/pima/pima_dnum05_fmsz(tp58_md60_bt66)\"\n",
    "#fpas='../pima_basic3_fmsz_gen50'\n",
    "k=10\n",
    "genlist=[50]\n",
    "genlist2=[50]\n",
    "\"\"\"グラフ作成フェーズ※随時設定\"\"\"\n",
    "\"\"\"ほしい散布図リストを設定\"\"\"\n",
    "xl=['AC(mk)','AC(ev)','AC(test)','F1(mk)','F1(ev)','mk_ratio','importance_uniformity','size']#x軸\n",
    "yl=['F1(test)','F1(test)','F1(test)','F1(test)','F1(test)','F1(test)','F1(test)','F1(test)']\n",
    "#yl=['size',  'size',  'size',    'size',  'size',  'size','AC(test)','importance_uniformity','importance_uniformity','F1(test)']#y軸\n",
    "\"\"\"ディレクトリ作成\"\"\"\n",
    "#os.chdir(fpas)\n",
    "os.chdir('../pima_dnum05_fmsz(tp58_md60_bt66)')\n",
    "os.mkdir('graph')\n",
    "os.mkdir('graph/gen_graph')\n",
    "os.mkdir('graph/run_graph')\n",
    "\"\"\"csvファイルのロード\"\"\"\n",
    "pops_list=[]\n",
    "for r in range(k):\n",
    "    for g in genlist:\n",
    "        pop_df=pd.read_csv('run{}/pop_g{}.csv'.format(str(r),str(g)))\n",
    "        pop_df['gen']=g\n",
    "        pop_df['run']=r\n",
    "        pops_list.append(pop_df)\n",
    "df_all=pd.concat(pops_list)\n",
    "\"\"\"グラフ作成（世代間比較）\"\"\"\n",
    "for r in range(k):\n",
    "    for x, y in zip(xl, yl):\n",
    "        pltdf=df_all[df_all['gen'].isin(genlist)&df_all['run'].isin([r])]#dfをあるrunのあるgensに限定\n",
    "        fig = plt.figure(figsize = (8,5))\n",
    "        ax=sns.scatterplot(data=pltdf, x=x, y=y, hue=\"gen\",alpha=0.75,palette=\"Set1\")\n",
    "        fig.savefig('graph/gen_graph/{}_{}_scat_run{}'.format(str(x),str(y),str(r)))\n",
    "        plt.close(fig)\n",
    "\"\"\"グラフ作成(実行回間比較)\"\"\"\n",
    "for g in genlist2:\n",
    "    for x, y in zip(xl, yl):\n",
    "        pltdf=df_all[df_all['run'].isin(list(range(10)))&df_all['gen'].isin([g])]#dfをあるrunのあるgensに限定\n",
    "        fig = plt.figure(figsize = (8,5))\n",
    "        ax=sns.scatterplot(data=pltdf, x=x, y=y, hue=\"run\",alpha=0.75,palette=\"Set1\")\n",
    "        fig.savefig('graph/run_graph/{}_{}_scat_gen{}'.format(str(x),str(y),str(g)))\n",
    "        plt.close(fig)"
   ]
  },
  {
   "cell_type": "code",
   "execution_count": 9,
   "id": "c326c04e",
   "metadata": {},
   "outputs": [
    {
     "data": {
      "text/plain": [
       "'c:\\\\Users\\\\smdir\\\\Documents\\\\MyStudy\\\\DTGA\\\\output\\\\method2\\\\pima\\\\pima_dnum03_fmsz(tp59_md64_bt63)'"
      ]
     },
     "execution_count": 9,
     "metadata": {},
     "output_type": "execute_result"
    }
   ],
   "source": [
    "import os\n",
    "os.getcwd()"
   ]
  }
 ],
 "metadata": {
  "kernelspec": {
   "display_name": "Python 3",
   "language": "python",
   "name": "python3"
  },
  "language_info": {
   "codemirror_mode": {
    "name": "ipython",
    "version": 3
   },
   "file_extension": ".py",
   "mimetype": "text/x-python",
   "name": "python",
   "nbconvert_exporter": "python",
   "pygments_lexer": "ipython3",
   "version": "3.12.4"
  }
 },
 "nbformat": 4,
 "nbformat_minor": 5
}
