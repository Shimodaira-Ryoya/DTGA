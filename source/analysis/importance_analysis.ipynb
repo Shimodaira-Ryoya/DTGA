{
 "cells": [
  {
   "cell_type": "markdown",
   "id": "61157540",
   "metadata": {},
   "source": [
    "### 特徴量重要度の可視化"
   ]
  },
  {
   "cell_type": "code",
   "execution_count": null,
   "id": "607a34ae",
   "metadata": {},
   "outputs": [],
   "source": [
    "import pandas as pd\n",
    "import matplotlib.pyplot as plt\n",
    "import seaborn as sns\n",
    "\n",
    "#pas1=\"output/basic/strokes2/run3/pop_g50.csv\"#7\n",
    "pas2=\"output/new/strokes4/run5/pop_g50.csv\"#11\n",
    "#pas3=\"output/simple_cart/strokes.csv\"#53\n",
    "#pas4=\"output/simple_cart/strokes_RF.csv\"\n",
    "pas1=\"output/basic/pima6/run3/pop_g50.csv\"#50\n",
    "#pas2=\"output/new/pima12_2/run1/pop_g50.csv\"#11\n",
    "pas3=\"output/simple_cart/test.csv\"#5\n",
    "pas4=\"output/simple_cart/pima_RF.csv\"#499\n",
    "#pas1='output/new/adult/run1/pop_g50.csv'#5\n",
    "#pas3=\"output/simple_cart/adult.csv\"#29\n",
    "df = pd.read_csv(pas2)\n",
    "ind=df.iloc[11,:]\n",
    "ind=ind.loc['xname':'gene']\n",
    "#ind=ind.iloc[4:]\n",
    "ind=ind.iloc[1:-1]\n",
    "\n",
    "\n",
    "ind.plot(kind='bar')  # 棒グラフにする\n",
    "plt.title('GAmethod')  \n",
    "plt.figure(figsize=(10, 6))\n",
    "plt.ylabel('feature_importance')\n",
    "plt.show()"
   ]
  }
 ],
 "metadata": {
  "kernelspec": {
   "display_name": "Python 3",
   "language": "python",
   "name": "python3"
  },
  "language_info": {
   "name": "python",
   "version": "3.12.4"
  }
 },
 "nbformat": 4,
 "nbformat_minor": 5
}
