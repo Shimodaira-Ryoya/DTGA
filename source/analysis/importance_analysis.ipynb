{
 "cells": [
  {
   "cell_type": "markdown",
   "id": "61157540",
   "metadata": {},
   "source": [
    "### 特徴量重要度の可視化"
   ]
  },
  {
   "cell_type": "code",
   "execution_count": null,
   "id": "607a34ae",
   "metadata": {},
   "outputs": [],
   "source": [
    "import pandas as pd\n",
    "import matplotlib.pyplot as plt\n",
    "import seaborn as sns\n",
    "\n",
    "#pas1=\"output/basic/strokes2/run3/pop_g50.csv\"#7\n",
    "pas2=\"output/new/strokes4/run5/pop_g50.csv\"#11\n",
    "#pas3=\"output/simple_cart/strokes.csv\"#53\n",
    "#pas4=\"output/simple_cart/strokes_RF.csv\"\n",
    "pas1=\"output/basic/pima6/run3/pop_g50.csv\"#50\n",
    "#pas2=\"output/new/pima12_2/run1/pop_g50.csv\"#11\n",
    "pas3=\"output/simple_cart/test.csv\"#5\n",
    "pas4=\"output/simple_cart/pima_RF.csv\"#499\n",
    "#pas1='output/new/adult/run1/pop_g50.csv'#5\n",
    "#pas3=\"output/simple_cart/adult.csv\"#29\n",
    "df = pd.read_csv(pas2)\n",
    "ind=df.iloc[11,:]\n",
    "ind=ind.loc['xname':'gene']\n",
    "#ind=ind.iloc[4:]\n",
    "ind=ind.iloc[1:-1]\n",
    "\n",
    "\n",
    "ind.plot(kind='bar')  # 棒グラフにする\n",
    "plt.title('GAmethod')  \n",
    "plt.figure(figsize=(10, 6))\n",
    "plt.ylabel('feature_importance')\n",
    "plt.show()"
   ]
  },
  {
   "cell_type": "code",
   "execution_count": 3,
   "id": "a92b2fd9",
   "metadata": {},
   "outputs": [
    {
     "name": "stdout",
     "output_type": "stream",
     "text": [
      "    AC(ev)  AC(test)\n",
      "1    0.894     0.688\n",
      "9    0.893     0.688\n",
      "5    0.890     0.714\n",
      "6    0.887     0.779\n",
      "14   0.883     0.740\n",
      "    AC(ev)  AC(test)\n",
      "0    0.899     0.701\n",
      "8    0.887     0.688\n",
      "6    0.884     0.675\n",
      "5    0.877     0.675\n",
      "11   0.871     0.623\n",
      "    AC(ev)  AC(test)\n",
      "0    0.902     0.753\n",
      "23   0.900     0.779\n",
      "21   0.899     0.766\n",
      "35   0.899     0.753\n",
      "15   0.897     0.779\n",
      "    AC(ev)  AC(test)\n",
      "45   0.899     0.714\n",
      "43   0.896     0.727\n",
      "44   0.896     0.727\n",
      "42   0.894     0.714\n",
      "41   0.891     0.779\n",
      "    AC(ev)  AC(test)\n",
      "0    0.906     0.740\n",
      "13   0.899     0.779\n",
      "8    0.896     0.701\n",
      "10   0.891     0.727\n",
      "18   0.883     0.792\n",
      "    AC(ev)  AC(test)\n",
      "0    0.891     0.779\n",
      "5    0.880     0.753\n",
      "18   0.874     0.727\n",
      "19   0.868     0.740\n",
      "22   0.864     0.701\n",
      "    AC(ev)  AC(test)\n",
      "37   0.889     0.779\n",
      "36   0.887     0.779\n",
      "35   0.884     0.818\n",
      "34   0.874     0.779\n",
      "33   0.870     0.818\n",
      "    AC(ev)  AC(test)\n",
      "41   0.887     0.636\n",
      "40   0.886     0.623\n",
      "39   0.884     0.649\n",
      "38   0.881     0.675\n",
      "37   0.878     0.636\n",
      "    AC(ev)  AC(test)\n",
      "33   0.903     0.697\n",
      "32   0.902     0.711\n",
      "31   0.890     0.750\n",
      "30   0.886     0.737\n",
      "29   0.882     0.763\n",
      "    AC(ev)  AC(test)\n",
      "51   0.909     0.684\n",
      "50   0.902     0.697\n",
      "49   0.900     0.711\n",
      "48   0.897     0.697\n",
      "47   0.893     0.632\n"
     ]
    }
   ],
   "source": [
    "   \n"
   ]
  }
 ],
 "metadata": {
  "kernelspec": {
   "display_name": "Python 3",
   "language": "python",
   "name": "python3"
  },
  "language_info": {
   "codemirror_mode": {
    "name": "ipython",
    "version": 3
   },
   "file_extension": ".py",
   "mimetype": "text/x-python",
   "name": "python",
   "nbconvert_exporter": "python",
   "pygments_lexer": "ipython3",
   "version": "3.12.4"
  }
 },
 "nbformat": 4,
 "nbformat_minor": 5
}
