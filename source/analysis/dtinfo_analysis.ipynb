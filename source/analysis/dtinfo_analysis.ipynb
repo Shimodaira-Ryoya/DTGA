{
 "cells": [
  {
   "cell_type": "markdown",
   "id": "0c60fba7",
   "metadata": {},
   "source": [
    "### 決定木構造の分析"
   ]
  },
  {
   "cell_type": "code",
   "execution_count": null,
   "id": "c331134e",
   "metadata": {},
   "outputs": [],
   "source": [
    "ga_dt0={'folder':'../../output/method1/pima',\n",
    "        'run':1,'gen':50,'index':1}\n",
    "ga_dt1={'folder':'../../output/method2/pima',\n",
    "        'run':1,'gen':50,'index':1}\n",
    "other0={'file':'../../simple_cart/simple_pima/simpleCART.csv',\n",
    "        'index':1}\n",
    "ga_dts=[ga_dt0,ga_dt1]\n",
    "other_dts=[other0]"
   ]
  }
 ],
 "metadata": {
  "kernelspec": {
   "display_name": "Python 3",
   "language": "python",
   "name": "python3"
  },
  "language_info": {
   "name": "python",
   "version": "3.12.4"
  }
 },
 "nbformat": 4,
 "nbformat_minor": 5
}
