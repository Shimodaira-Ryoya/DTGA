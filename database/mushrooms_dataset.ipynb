{
 "cells": [
  {
   "cell_type": "code",
   "execution_count": null,
   "id": "8b68c996",
   "metadata": {},
   "outputs": [],
   "source": [
    "import pandas as pd\n",
    "\n",
    "df = pd.read_csv('mushrooms_dataset_org.csv')\n",
    "df = df[~df.isin([\"?\"]).any(axis=1)]\n",
    "df.head(5)\n",
    "#%%\n",
    "df.info()\n",
    "# %%\n",
    "df['sex'] = df['sex'].map({'Male':1,'Female':0})\n",
    "df.head(5)\n",
    "# %%\n",
    "df.columns\n",
    "# %%\n",
    "df=pd.get_dummies(df,columns=['workclass','education','marital.status', 'occupation', \n",
    "                              'relationship', 'race',  'native.country',])\n",
    "df['income'] = df['income'].map({'<=50K':0,'>50K':1})\n",
    "#print(df_dummy.columns)\n",
    "df=df.astype(int)\n",
    "df.head(5)\n",
    "df.to_csv(\"test.csv\")\n",
    "# %%\n",
    "df=pd.read_csv('test.csv')\n",
    "df.to_csv()"
   ]
  }
 ],
 "metadata": {
  "language_info": {
   "name": "python"
  }
 },
 "nbformat": 4,
 "nbformat_minor": 5
}
