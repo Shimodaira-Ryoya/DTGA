{
 "cells": [
  {
   "cell_type": "code",
   "execution_count": null,
   "id": "36bb7b0c",
   "metadata": {},
   "outputs": [],
   "source": [
    "import pandas as pd\n",
    "\n",
    "df=pd.read_csv(\"test2.csv\")\n",
    "#print(df.columns)\n",
    "#print(df.loc[:,'Severity_Mild'])\n",
    "#Severity_Mild', 'Severity_Moderate','Severity_None', 'Severity_Severe\n",
    "#print(len(df))\n",
    "df[\"Symptom_class\"]=\"0\"\n",
    "for i in range(len(df)):\n",
    "    if df.loc[i,\"Severity_Mild\"]==1:\n",
    "        df.loc[i,\"Symptom_class\"]=1\n",
    "    if df.loc[i,\"Severity_Moderate\"]==1:\n",
    "        df.loc[i,\"Symptom_class\"]=2\n",
    "    if df.loc[i,\"Severity_None\"]==1:\n",
    "        df.loc[i,\"Symptom_class\"]=0\n",
    "    if df.loc[i,\"Severity_Severe\"]==1:\n",
    "        df.loc[i,\"Symptom_class\"]=3\n",
    "df = df.drop([\"Severity_Mild\",'Severity_Moderate',\"Severity_None\",\"Severity_Severe\"], axis=1)\n",
    "#クラス名をintに\n",
    "#特徴量削除\n",
    "#CARTつくる\n",
    "#NNつくる\n",
    "#kaggleでheart_desease_datasetみる\n",
    "\n",
    "df.to_csv(\"proto.csv\",index=False)\n",
    "#%%\n",
    "import pandas as pd\n",
    "\n",
    "df=pd.read_csv(\"covid19_dataset.csv\")\n",
    "df_dummy=pd.get_dummies(df,columns=[\"Country\"])\n",
    "#print(df_dummy.columns)\n",
    "df_dummy2=df_dummy.astype(int)\n",
    "df_dummy2.loc[:,\"Country_China\"]\n",
    "df_dummy2.to_csv(\"test2.csv\")"
   ]
  }
 ],
 "metadata": {
  "language_info": {
   "name": "python"
  }
 },
 "nbformat": 4,
 "nbformat_minor": 5
}
