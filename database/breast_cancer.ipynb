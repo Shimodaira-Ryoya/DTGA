{
 "cells": [
  {
   "cell_type": "markdown",
   "metadata": {},
   "source": [
    "# breast_cancer\n",
    "乳腺腫瘤の穿刺吸引細胞診(fine needle aspirate (FNA) of a breast mass)のデジタル画像から計算されたデータ\n",
    "乳癌に関する細胞テストの様々な数値と、その結果のデータセット。569人の被検者の複数の腫瘤に関する細胞診の結果得られた30個の特徴量と、各被験者の診断結果（悪性／良性：benign/malignant）が格納されている。\n",
    "参考:http://taustation.com/breast-cancer-dataset/#i"
   ]
  },
  {
   "cell_type": "markdown",
   "metadata": {},
   "source": [
    "### データのインポート＆csvファイル化"
   ]
  },
  {
   "cell_type": "code",
   "execution_count": 6,
   "metadata": {},
   "outputs": [],
   "source": [
    "from sklearn.datasets import load_breast_cancer\n",
    "import pandas as pd\n",
    "\n",
    "cancer_data=load_breast_cancer()#brast_cancerをインポート\n",
    "#print(cancer_data.keys())#cancer_dataのキーを確認\n",
    "df=pd.DataFrame(cancer_data.data, columns=cancer_data.feature_names)#data(特徴量データ)とfeature_name(特徴量名)でdfを作成\n",
    "df[\"class\"]=cancer_data.target#dfにclass列を追加しラベルデータを入れる\n",
    "\n",
    "df.to_csv('breast_cancer_dataset.csv')#ディレクトリを定めてcsvファイルとして格納"
   ]
  },
  {
   "cell_type": "markdown",
   "metadata": {},
   "source": [
    "### 主要キーの解説\n",
    "- data...特徴量データセット　569人の細胞診結果に対する30個の特徴量のデータを格納した2次元配列。列のインデックス(0～29)が30個の特徴量に対応している。<br>\n",
    "- target...診断結果に対応したコード 各被検者の診断結果（悪性：malignant、良性：benign）を格納した0/1のコードの配列。569個の腫瘤に対応した1次元配列（0：悪性が212、1：良性が357）<br>\n",
    "- target_names～診断結果 診断結果、悪性(malignant)／良性(benign)が定義されている<br>\n",
    "- feature_names～特徴名 データの格納順はDESCRの後。細胞診の結果得られた30個の特徴量の名前。 腫瘤に関する以下の10の属性について、それぞれ平均(mean)、標準偏差(error)、最悪値(worst)の3種類、合計30の特性値に対する名前が格納されている。ここでworstは各属性に関する最大値となっている。<br>"
   ]
  },
  {
   "cell_type": "markdown",
   "metadata": {},
   "source": [
    "### 特徴量の解説\n",
    "569人の細胞診結果に対する30個の特徴量。列のインデックス(0～29)が30個の特徴量に対応している。<br>\n",
    "腫瘤に関する以下の10の属性について、それぞれ平均(mean)、標準偏差(error)、最悪値(worst)の3種類が格納されている。<br>\n",
    "1. radius：半径（中心から外周までの平均）\n",
    "1. texture：テクスチャ―のグレースケールの標準偏差\n",
    "1. perimeter：外周長\n",
    "1. area：面積\n",
    "1. smoothness：中心から外周までの部分偏差\n",
    "1. compactness：コンパクト性（外周長2÷面積－1.0）\n",
    "1. concavity：コンターの凹部強度\n",
    "1. concave points：コンターの凹点の数\n",
    "1. symmetry：対称性\n",
    "1. fractal dimension：フラクタル次元"
   ]
  }
 ],
 "metadata": {
  "kernelspec": {
   "display_name": "Python 3",
   "language": "python",
   "name": "python3"
  },
  "language_info": {
   "codemirror_mode": {
    "name": "ipython",
    "version": 3
   },
   "file_extension": ".py",
   "mimetype": "text/x-python",
   "name": "python",
   "nbconvert_exporter": "python",
   "pygments_lexer": "ipython3",
   "version": "3.12.4"
  }
 },
 "nbformat": 4,
 "nbformat_minor": 2
}
